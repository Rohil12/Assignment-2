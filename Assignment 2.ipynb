{
 "cells": [
  {
   "cell_type": "code",
   "execution_count": 2,
   "id": "293a3774-ea17-4423-b046-8eb18fe3a14b",
   "metadata": {},
   "outputs": [],
   "source": [
    "#Q1\n",
    "#To write a comment you just need to add #hashtag before a line\n",
    "#There are two types of comments single line comment and multi-line comment where you just add hashtag before a line\n",
    "# Multiple line comment like above if the text is on multiple lines multiple hastags need to be used before each line\n",
    "\n",
    "\n"
   ]
  },
  {
   "cell_type": "code",
   "execution_count": 3,
   "id": "0d45a10c-087c-4627-a73b-6b57957bdbe6",
   "metadata": {},
   "outputs": [
    {
     "data": {
      "text/plain": [
       "100"
      ]
     },
     "execution_count": 3,
     "metadata": {},
     "output_type": "execute_result"
    }
   ],
   "source": [
    "#Q2\n",
    "# Variables are containers for storing data values\n",
    "a=100 # A variable is created as you assign value to it\n",
    "a"
   ]
  },
  {
   "cell_type": "code",
   "execution_count": 13,
   "id": "c53976d1-be60-42fa-a544-24cc112301ef",
   "metadata": {},
   "outputs": [
    {
     "data": {
      "text/plain": [
       "'234'"
      ]
     },
     "execution_count": 13,
     "metadata": {},
     "output_type": "execute_result"
    }
   ],
   "source": [
    "#Q3\n",
    "# Through data type casting you can convert one data type to another \n",
    "str(234)\n"
   ]
  },
  {
   "cell_type": "code",
   "execution_count": 14,
   "id": "faae4e4f-e813-4cd0-8b67-a6e0a5d40780",
   "metadata": {},
   "outputs": [],
   "source": [
    "#create a python script\n",
    "#open command prompt and navigate to the directory where your script is located\n",
    "# Use script name "
   ]
  },
  {
   "cell_type": "code",
   "execution_count": 5,
   "id": "f743581f-d779-410f-aadd-502893e3f183",
   "metadata": {},
   "outputs": [
    {
     "name": "stdout",
     "output_type": "stream",
     "text": [
      "[2, 3]\n"
     ]
    }
   ],
   "source": [
    "#Q5\n",
    "my_list=[1,2,3,4,5]\n",
    "sub_list=my_list[1:3]\n",
    "print(sub_list)"
   ]
  },
  {
   "cell_type": "code",
   "execution_count": 10,
   "id": "a2189d89-bbd5-48dd-9bb0-19904e1d3881",
   "metadata": {},
   "outputs": [
    {
     "name": "stdout",
     "output_type": "stream",
     "text": [
      "(2+3j)\n"
     ]
    }
   ],
   "source": [
    "#Q6\n",
    "# Complex numbers are a combination of real numbers and imaginary number 2+3i is a complex number\n",
    "i=complex(2,3)# Through complex function you can represent complex numbers in python \n",
    "print(i)\n"
   ]
  },
  {
   "cell_type": "code",
   "execution_count": 12,
   "id": "d393973f-ce71-431f-9af2-048df5cedcf7",
   "metadata": {},
   "outputs": [
    {
     "name": "stdout",
     "output_type": "stream",
     "text": [
      "25\n"
     ]
    }
   ],
   "source": [
    "#Q7\n",
    "age=25 # (=) equal to sign is the correct way to assign value to variable\n",
    "print(age)"
   ]
  },
  {
   "cell_type": "code",
   "execution_count": 14,
   "id": "5e7d3134-3f84-44ea-8ef3-8a91a325e12f",
   "metadata": {},
   "outputs": [
    {
     "data": {
      "text/plain": [
       "float"
      ]
     },
     "execution_count": 14,
     "metadata": {},
     "output_type": "execute_result"
    }
   ],
   "source": [
    "#Q8\n",
    "price=9.99 # price variable belongs to float data type \n",
    "type(price)"
   ]
  },
  {
   "cell_type": "code",
   "execution_count": 19,
   "id": "725c5f7f-efdb-4205-a071-931aaaabb11a",
   "metadata": {},
   "outputs": [
    {
     "name": "stdout",
     "output_type": "stream",
     "text": [
      "Rohil juneja\n"
     ]
    },
    {
     "data": {
      "text/plain": [
       "str"
      ]
     },
     "execution_count": 19,
     "metadata": {},
     "output_type": "execute_result"
    }
   ],
   "source": [
    "#Q9\n",
    "name=\"Rohil juneja\"\n",
    "print(name)\n",
    "type(name)"
   ]
  },
  {
   "cell_type": "code",
   "execution_count": 38,
   "id": "f3c3b0c1-210c-45e4-b575-dcbb531fc2d5",
   "metadata": {},
   "outputs": [
    {
     "name": "stdout",
     "output_type": "stream",
     "text": [
      "World\n"
     ]
    }
   ],
   "source": [
    "#Q10\n",
    "A=\"Hello,World!\"\n",
    "sub=A[6:11]\n",
    "print(sub)"
   ]
  },
  {
   "cell_type": "code",
   "execution_count": 41,
   "id": "caf397a5-a2d7-4afb-acf8-6c442fa327f4",
   "metadata": {},
   "outputs": [],
   "source": [
    "#Q11\n",
    "is_student= True\n"
   ]
  },
  {
   "cell_type": "code",
   "execution_count": null,
   "id": "ecbf0575-ec05-4d04-97a9-3d0eeee5f240",
   "metadata": {},
   "outputs": [],
   "source": []
  }
 ],
 "metadata": {
  "kernelspec": {
   "display_name": "Python 3 (ipykernel)",
   "language": "python",
   "name": "python3"
  },
  "language_info": {
   "codemirror_mode": {
    "name": "ipython",
    "version": 3
   },
   "file_extension": ".py",
   "mimetype": "text/x-python",
   "name": "python",
   "nbconvert_exporter": "python",
   "pygments_lexer": "ipython3",
   "version": "3.10.8"
  }
 },
 "nbformat": 4,
 "nbformat_minor": 5
}
